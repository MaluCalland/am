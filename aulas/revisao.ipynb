{
 "cells": [
  {
   "cell_type": "code",
   "execution_count": 2,
   "metadata": {},
   "outputs": [
    {
     "name": "stdout",
     "output_type": "stream",
     "text": [
      "[0, 'teste', 8.85, True]\n",
      "[0, '1000', 'teste', 8.85, True, '999']\n"
     ]
    }
   ],
   "source": [
    "# DECLARAÇÃO DE VARIAVEIS\n",
    "var1 = 10 # TIPO INTEIRO ≠ 0.0 TIPO FLOAT\n",
    "var2 = str\n",
    "\n",
    "lista1 = [0, 'teste', 8.85, True]\n",
    "lista2 = (0, 'teste', 8.85, True) # tupla - NAO PERMITE ALTERAÇOES \n",
    "dicionario1 = {}\n",
    "tupla1 = () # NAO PERMITE ALTERAÇOES \n",
    "\n",
    "lista3 = list() # funcao de lista\n",
    "dic4 = dict() # cria um dicionario\n",
    "tup4 = tuple() # usa as funcoes para usar as variaveis\n",
    "\n",
    "# BLOCO DE CAPTURA DE DADOS DO USUARIO\n",
    "# var1 = input(\"Digite uma nota: \")\n",
    "\n",
    "print(lista1)\n",
    "# lista1[4] = input(\"Digite uma nota: \")\n",
    "# temp = input('Digite uma nota: ')\n",
    "# lista1.append(temp)\n",
    "lista1.append(input('Digite uma nota: ')) # pega o objeto e adiciona no final da lista\n",
    "lista1.insert(1, input('Digite alguma coisa 2: ')) # na posicao 1, valor do usuario - inserir valor dentro de uma LISTA\n",
    "\n",
    "print(lista1)"
   ]
  }
 ],
 "metadata": {
  "kernelspec": {
   "display_name": "Python 3",
   "language": "python",
   "name": "python3"
  },
  "language_info": {
   "codemirror_mode": {
    "name": "ipython",
    "version": 3
   },
   "file_extension": ".py",
   "mimetype": "text/x-python",
   "name": "python",
   "nbconvert_exporter": "python",
   "pygments_lexer": "ipython3",
   "version": "3.12.1"
  }
 },
 "nbformat": 4,
 "nbformat_minor": 2
}
