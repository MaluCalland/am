{
 "cells": [
  {
   "cell_type": "code",
   "execution_count": 6,
   "metadata": {},
   "outputs": [
    {
     "name": "stdout",
     "output_type": "stream",
     "text": [
      "malu\n",
      "klnvklgjnvglkan\n"
     ]
    }
   ],
   "source": [
    "import os\n",
    "\n",
    "def nome_tela():\n",
    "    print(\"malu\")\n",
    "\n",
    "def dados_nome():\n",
    "    print(\"klnvklgjnvglkan\")\n",
    "\n",
    "def mostrar_nome_tela():\n",
    "    os.system('cls')\n",
    "    nome_tela()\n",
    "    dados_nome()\n",
    "\n",
    "mostrar_nome_tela()"
   ]
  }
 ],
 "metadata": {
  "kernelspec": {
   "display_name": "Python 3",
   "language": "python",
   "name": "python3"
  },
  "language_info": {
   "codemirror_mode": {
    "name": "ipython",
    "version": 3
   },
   "file_extension": ".py",
   "mimetype": "text/x-python",
   "name": "python",
   "nbconvert_exporter": "python",
   "pygments_lexer": "ipython3",
   "version": "3.12.1"
  }
 },
 "nbformat": 4,
 "nbformat_minor": 2
}
